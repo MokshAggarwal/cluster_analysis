{
 "cells": [
  {
   "cell_type": "code",
   "execution_count": 1,
   "metadata": {},
   "outputs": [],
   "source": [
    "from starter import get_data\n",
    "import threading\n",
    "from tqdm import tqdm\n",
    "import pandas as pd\n",
    "import schedule, time"
   ]
  },
  {
   "cell_type": "code",
   "execution_count": 2,
   "metadata": {},
   "outputs": [
    {
     "data": {
      "text/html": [
       "<div>\n",
       "<style scoped>\n",
       "    .dataframe tbody tr th:only-of-type {\n",
       "        vertical-align: middle;\n",
       "    }\n",
       "\n",
       "    .dataframe tbody tr th {\n",
       "        vertical-align: top;\n",
       "    }\n",
       "\n",
       "    .dataframe thead th {\n",
       "        text-align: right;\n",
       "    }\n",
       "</style>\n",
       "<table border=\"1\" class=\"dataframe\">\n",
       "  <thead>\n",
       "    <tr style=\"text-align: right;\">\n",
       "      <th></th>\n",
       "      <th>route_id</th>\n",
       "      <th>trip_id</th>\n",
       "      <th>vehicle_id</th>\n",
       "      <th>start_time</th>\n",
       "      <th>end_time</th>\n",
       "    </tr>\n",
       "  </thead>\n",
       "  <tbody>\n",
       "  </tbody>\n",
       "</table>\n",
       "</div>"
      ],
      "text/plain": [
       "Empty DataFrame\n",
       "Columns: [route_id, trip_id, vehicle_id, start_time, end_time]\n",
       "Index: []"
      ]
     },
     "metadata": {},
     "output_type": "display_data"
    }
   ],
   "source": [
    "q = pd.DataFrame(columns=['route_id', 'trip_id', 'vehicle_id', 'start_time', 'end_time'])\n",
    "display(q)\n",
    "q.to_csv(\"data.csv\")\n",
    "# k = ['a', 2, 2, '6']\n",
    "# df = df.append(pd.Series(k, index=df.columns[:len(k)]), ignore_index=True)\n",
    "# df = df.append(pd.Series(k, index=df.columns[:len(k)]), ignore_index=True)\n",
    "# display(df)"
   ]
  },
  {
   "cell_type": "code",
   "execution_count": 3,
   "metadata": {},
   "outputs": [],
   "source": [
    "curr = None"
   ]
  },
  {
   "cell_type": "code",
   "execution_count": 4,
   "metadata": {},
   "outputs": [
    {
     "name": "stdout",
     "output_type": "stream",
     "text": [
      "['600', '600_16_00', 'DL1PC5818', '16:01:20', '17:52:16']\n",
      "['494', '494_16_40', 'DL1PD3074', '16:40:48', '17:52:10']\n",
      "['1114', '1114_16_9_870_new', 'DL1PD5253', '16:09:49', '17:52:07']\n",
      "['460', '460_15_40', 'DL1PD3031', '15:11:33', '17:52:16']\n",
      "['133', '133_15_53_5472_new', 'DL1PD4342', '15:53:04', '17:52:28']\n",
      "['113', '113_15_20', 'DL1PD4344', '15:33:39', '17:52:30']\n",
      "['217', '217_17_20', 'DL1PC4827', '17:07:49', '17:52:38']\n",
      "['1177', '1177_16_00', 'DL1PD4639', '16:06:39', '17:52:43']\n",
      "['213', '213_15_00', 'DL1PD4579', '15:05:58', '17:52:54']\n",
      "['883', '883_17_20', 'DL1PD2319', '17:03:41', '17:53:00']\n",
      "['416', '416_15_00', 'DL1PD2816', '15:24:42', '17:53:02']\n",
      "['378', '378_14_50', 'DL1PC5856', '14:55:25', '17:53:01']\n",
      "['460', '460_16_20', 'DL1PD0053', '16:10:32', '17:53:11']\n",
      "['793', '793_15_40', 'DL1PD5499', '15:57:24', '17:53:19']\n",
      "['473', '473_17_10', 'DL1PD2261', '16:45:48', '17:53:24']\n",
      "['559', '559_15_20', 'DL1PD4337', '15:28:03', '17:53:52']\n",
      "['629', '629_15_10', 'DL1PD4328', '15:11:32', '17:53:45']\n",
      "['590', '590_15_40', 'DL1PD5279', '15:44:51', '17:53:51']\n",
      "['647', '647_16_50', 'DL1PD2352', '16:54:47', '17:53:44']\n"
     ]
    },
    {
     "ename": "KeyboardInterrupt",
     "evalue": "",
     "output_type": "error",
     "traceback": [
      "\u001b[1;31m---------------------------------------------------------------------------\u001b[0m",
      "\u001b[1;31mKeyboardInterrupt\u001b[0m                         Traceback (most recent call last)",
      "\u001b[1;32m<ipython-input-4-db711ffccb7b>\u001b[0m in \u001b[0;36m<module>\u001b[1;34m\u001b[0m\n\u001b[0;32m     41\u001b[0m \u001b[1;32mwhile\u001b[0m \u001b[1;36m1\u001b[0m\u001b[1;33m:\u001b[0m\u001b[1;33m\u001b[0m\u001b[1;33m\u001b[0m\u001b[0m\n\u001b[0;32m     42\u001b[0m   \u001b[0mschedule\u001b[0m\u001b[1;33m.\u001b[0m\u001b[0mrun_pending\u001b[0m\u001b[1;33m(\u001b[0m\u001b[1;33m)\u001b[0m\u001b[1;33m\u001b[0m\u001b[1;33m\u001b[0m\u001b[0m\n\u001b[1;32m---> 43\u001b[1;33m   \u001b[0mtime\u001b[0m\u001b[1;33m.\u001b[0m\u001b[0msleep\u001b[0m\u001b[1;33m(\u001b[0m\u001b[1;36m1\u001b[0m\u001b[1;33m)\u001b[0m\u001b[1;33m\u001b[0m\u001b[1;33m\u001b[0m\u001b[0m\n\u001b[0m",
      "\u001b[1;31mKeyboardInterrupt\u001b[0m: "
     ]
    },
    {
     "name": "stdout",
     "output_type": "stream",
     "text": [
      "['516', '516_14_20', 'DL1PD4248', '14:19:41', '17:53:55']\n",
      "['1237', '1237_16_20', 'DL1PC5427', '16:21:10', '17:54:02']\n",
      "['1145', '1145_17_40_8948_new', 'DL1PC4855', '17:40:11', '17:53:54']\n"
     ]
    }
   ],
   "source": [
    "vehicle_flag = {}\n",
    "vehicle_start_time = {}\n",
    "vehicle_trip_id = {}\n",
    "vehicle_route_id = {}\n",
    "vehicle_trip_id = {}\n",
    "route_start_time = {}\n",
    "route_end_time = {}\n",
    "\n",
    "def fetch():\n",
    "  threading.Timer(20.0, fetch).start()\n",
    "  global curr\n",
    "  curr = get_data()\n",
    "  # x = list(curr.keys())[1]\n",
    "  # print(curr[x])\n",
    "  df = pd.read_csv(\"data.csv\")\n",
    "  for vehicle in curr.keys():\n",
    "    global vehicle_route_id, vehicle_trip_id, vehicle_start_time\n",
    "    # print(curr[vehicle])\n",
    "    if vehicle not in vehicle_flag.keys():\n",
    "      vehicle_flag[vehicle] = 0\n",
    "      vehicle_start_time[vehicle] = curr[vehicle]['start_time']\n",
    "      vehicle_route_id[vehicle] = curr[vehicle]['route_id']\n",
    "      vehicle_trip_id[vehicle] = curr[vehicle]['trip_id']\n",
    "      route_start_time[vehicle_route_id[vehicle]] = curr[vehicle]['start_time']\n",
    "    else:\n",
    "      if curr[vehicle]['route_id'] != vehicle_route_id[vehicle]:\n",
    "        lis = [vehicle_route_id[vehicle], vehicle_trip_id[vehicle], vehicle, vehicle_start_time[vehicle], curr[vehicle]['start_time']]\n",
    "        print(lis)\n",
    "        vehicle_start_time[vehicle] = curr[vehicle]['start_time']\n",
    "        vehicle_route_id[vehicle] = curr[vehicle]['route_id']\n",
    "        vehicle_trip_id[vehicle] = curr[vehicle]['trip_id']\n",
    "        route_end_time[vehicle_route_id[vehicle]] = curr[vehicle]['start_time']\n",
    "        # df = df.append(pd.Series(lis, index=df.columns[:len(lis)]), ignore_index=True)\n",
    "  # df.to_csv(\"data.csv\")\n",
    "  # print(vehicle_route_id)\n",
    "  # print(vehicle_trip_id)\n",
    "  # print(vehicle_start_time)\n",
    "\n",
    "schedule.every(20).seconds.do(fetch)\n",
    "\n",
    "while 1:\n",
    "  schedule.run_pending()\n",
    "  time.sleep(1)"
   ]
  },
  {
   "cell_type": "code",
   "execution_count": null,
   "metadata": {},
   "outputs": [],
   "source": [
    "print(route_start_time)\n",
    "print(route_end_time)"
   ]
  },
  {
   "cell_type": "code",
   "execution_count": null,
   "metadata": {},
   "outputs": [
    {
     "data": {
      "text/html": [
       "<div>\n",
       "<style scoped>\n",
       "    .dataframe tbody tr th:only-of-type {\n",
       "        vertical-align: middle;\n",
       "    }\n",
       "\n",
       "    .dataframe tbody tr th {\n",
       "        vertical-align: top;\n",
       "    }\n",
       "\n",
       "    .dataframe thead th {\n",
       "        text-align: right;\n",
       "    }\n",
       "</style>\n",
       "<table border=\"1\" class=\"dataframe\">\n",
       "  <thead>\n",
       "    <tr style=\"text-align: right;\">\n",
       "      <th></th>\n",
       "      <th>Unnamed: 0</th>\n",
       "      <th>Unnamed: 0.1</th>\n",
       "      <th>Unnamed: 0.1.1</th>\n",
       "      <th>Unnamed: 0.1.1.1</th>\n",
       "      <th>Unnamed: 0.1.1.1.1</th>\n",
       "      <th>Unnamed: 0.1.1.1.1.1</th>\n",
       "      <th>Unnamed: 0.1.1.1.1.1.1</th>\n",
       "      <th>Unnamed: 0.1.1.1.1.1.1.1</th>\n",
       "      <th>Unnamed: 0.1.1.1.1.1.1.1.1</th>\n",
       "      <th>Unnamed: 0.1.1.1.1.1.1.1.1.1</th>\n",
       "      <th>Unnamed: 0.1.1.1.1.1.1.1.1.1.1</th>\n",
       "      <th>route_id</th>\n",
       "      <th>trip_id</th>\n",
       "      <th>vehicle_id</th>\n",
       "      <th>start_time</th>\n",
       "      <th>stop_time</th>\n",
       "    </tr>\n",
       "  </thead>\n",
       "  <tbody>\n",
       "  </tbody>\n",
       "</table>\n",
       "</div>"
      ],
      "text/plain": [
       "Empty DataFrame\n",
       "Columns: [Unnamed: 0, Unnamed: 0.1, Unnamed: 0.1.1, Unnamed: 0.1.1.1, Unnamed: 0.1.1.1.1, Unnamed: 0.1.1.1.1.1, Unnamed: 0.1.1.1.1.1.1, Unnamed: 0.1.1.1.1.1.1.1, Unnamed: 0.1.1.1.1.1.1.1.1, Unnamed: 0.1.1.1.1.1.1.1.1.1, Unnamed: 0.1.1.1.1.1.1.1.1.1.1, route_id, trip_id, vehicle_id, start_time, stop_time]\n",
       "Index: []"
      ]
     },
     "execution_count": 5,
     "metadata": {},
     "output_type": "execute_result"
    }
   ],
   "source": [
    "df = pd.read_csv(\"data.csv\")\n",
    "df"
   ]
  },
  {
   "cell_type": "code",
   "execution_count": null,
   "metadata": {},
   "outputs": [],
   "source": []
  }
 ],
 "metadata": {
  "interpreter": {
   "hash": "280099df030f3658f1021dc3f9fcb595d3b9359ac8bbbc5f2cfe11b77cf33da8"
  },
  "kernelspec": {
   "display_name": "Python 3.8.8 ('base')",
   "language": "python",
   "name": "python3"
  },
  "language_info": {
   "codemirror_mode": {
    "name": "ipython",
    "version": 3
   },
   "file_extension": ".py",
   "mimetype": "text/x-python",
   "name": "python",
   "nbconvert_exporter": "python",
   "pygments_lexer": "ipython3",
   "version": "3.8.8"
  },
  "orig_nbformat": 4
 },
 "nbformat": 4,
 "nbformat_minor": 2
}
